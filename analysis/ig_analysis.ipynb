{
 "cells": [
  {
   "cell_type": "markdown",
   "metadata": {},
   "source": [
    "# ig_analysis"
   ]
  },
  {
   "cell_type": "markdown",
   "metadata": {},
   "source": [
    "Read in the datasets created"
   ]
  },
  {
   "cell_type": "code",
   "execution_count": null,
   "metadata": {},
   "outputs": [],
   "source": [
    "import os\n",
    "\n",
    "import pandas as pd\n",
    "from dotenv import load_dotenv\n",
    "load_dotenv()\n",
    "\n",
    "dir_name = r'../data/{}'.format(os.getenv('FOLDER_NAME'))\n",
    "\n",
    "# The scrapper seems to have some issues, and as a result some rows have more/less items than they should, thus the usage of 'error_bad_lines=False'\n",
    "followers_df = pd.read_csv('{}/followers.csv'.format(dir_name), error_bad_lines=False)\n",
    "following_df = pd.read_csv('{}/following.csv'.format(dir_name), error_bad_lines=False)\n",
    "feed_df = pd.read_csv('{}/feed.csv'.format(dir_name), error_bad_lines=False)"
   ]
  },
  {
   "cell_type": "markdown",
   "metadata": {},
   "source": [
    "## Analyzing the 'followers.csv' and 'following.csv' files"
   ]
  },
  {
   "cell_type": "markdown",
   "metadata": {},
   "source": [
    "Let's take a look at the ``followers.csv`` file structure (which is the same as the ``following.csv``):"
   ]
  },
  {
   "cell_type": "code",
   "execution_count": null,
   "metadata": {},
   "outputs": [],
   "source": [
    "followers_df.head()"
   ]
  },
  {
   "cell_type": "markdown",
   "metadata": {},
   "source": [
    "### How many followers does the user have?"
   ]
  },
  {
   "cell_type": "code",
   "execution_count": null,
   "metadata": {},
   "outputs": [],
   "source": [
    "print('The user has {} followers'.format(len(followers_df)))"
   ]
  },
  {
   "cell_type": "markdown",
   "metadata": {},
   "source": [
    "### How many accounts don't follow-back the user?"
   ]
  },
  {
   "cell_type": "code",
   "execution_count": null,
   "metadata": {},
   "outputs": [],
   "source": [
    "no_follow_back = set(following_df['username'].values) - set(followers_df['username'].values)\n",
    "print('{} account(s) do not follow the user back'.format(len(no_follow_back)))\n",
    "print('The no follow-back accounts are: \\n{}'.format(', '.join(list(no_follow_back))))"
   ]
  }
 ],
 "metadata": {
  "kernelspec": {
   "display_name": "Python 3",
   "language": "python",
   "name": "python3"
  },
  "language_info": {
   "codemirror_mode": {
    "name": "ipython",
    "version": 3
   },
   "file_extension": ".py",
   "mimetype": "text/x-python",
   "name": "python",
   "nbconvert_exporter": "python",
   "pygments_lexer": "ipython3",
   "version": "3.6.6"
  }
 },
 "nbformat": 4,
 "nbformat_minor": 2
}
