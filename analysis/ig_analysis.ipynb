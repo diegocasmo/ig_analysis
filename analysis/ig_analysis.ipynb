{
 "cells": [
  {
   "cell_type": "markdown",
   "metadata": {},
   "source": [
    "# ig_analysis"
   ]
  },
  {
   "cell_type": "markdown",
   "metadata": {},
   "source": [
    "Read in the datasets created"
   ]
  },
  {
   "cell_type": "code",
   "execution_count": null,
   "metadata": {},
   "outputs": [],
   "source": [
    "import os\n",
    "\n",
    "import pandas as pd\n",
    "from dotenv import load_dotenv\n",
    "load_dotenv()\n",
    "\n",
    "dir_name = r'../data/{}'.format(os.getenv('FOLDER_NAME'))\n",
    "\n",
    "# The scrapper seems to have some issues, and as a result some rows have more/less items than they should, thus the usage of 'error_bad_lines=False'\n",
    "followers_df = pd.read_csv('{}/followers.csv'.format(dir_name), error_bad_lines=False)\n",
    "following_df = pd.read_csv('{}/following.csv'.format(dir_name), error_bad_lines=False)\n",
    "feed_df = pd.read_csv('{}/feed.csv'.format(dir_name), error_bad_lines=False)"
   ]
  },
  {
   "cell_type": "markdown",
   "metadata": {},
   "source": [
    "## Analyzing the 'followers.csv' and 'following.csv' files"
   ]
  },
  {
   "cell_type": "markdown",
   "metadata": {},
   "source": [
    "Let's take a look at the ``followers.csv`` and ``following.csv`` files structure:"
   ]
  },
  {
   "cell_type": "code",
   "execution_count": null,
   "metadata": {},
   "outputs": [],
   "source": [
    "followers_df.head(3)"
   ]
  },
  {
   "cell_type": "code",
   "execution_count": null,
   "metadata": {},
   "outputs": [],
   "source": [
    "following_df.head(3)"
   ]
  },
  {
   "cell_type": "markdown",
   "metadata": {},
   "source": [
    "### How many followers does the user have?"
   ]
  },
  {
   "cell_type": "code",
   "execution_count": null,
   "metadata": {},
   "outputs": [],
   "source": [
    "print('The user has {} followers'.format(len(followers_df)))"
   ]
  },
  {
   "cell_type": "markdown",
   "metadata": {},
   "source": [
    "### How many accounts don't follow-back the user?"
   ]
  },
  {
   "cell_type": "code",
   "execution_count": null,
   "metadata": {},
   "outputs": [],
   "source": [
    "no_follow_back = set(following_df['username'].values) - set(followers_df['username'].values)\n",
    "print('{} account(s) do not follow the user back\\n'.format(len(no_follow_back)))\n",
    "print('The no follow-back accounts are: \\n\\n{}'.format(', '.join(list(no_follow_back))))"
   ]
  },
  {
   "cell_type": "markdown",
   "metadata": {},
   "source": [
    "## Analyzing the 'feed.csv' file"
   ]
  },
  {
   "cell_type": "markdown",
   "metadata": {},
   "source": [
    "Let's take a look at the ``feed.csv`` file structure:"
   ]
  },
  {
   "cell_type": "code",
   "execution_count": null,
   "metadata": {},
   "outputs": [],
   "source": [
    "feed_df.head(3)"
   ]
  },
  {
   "cell_type": "markdown",
   "metadata": {},
   "source": [
    "# Analysis of the top-10 user's posts based on likes "
   ]
  },
  {
   "cell_type": "code",
   "execution_count": null,
   "metadata": {},
   "outputs": [],
   "source": [
    "feed_df = feed_df.sort_values('likes_count', ascending=False)"
   ]
  },
  {
   "cell_type": "code",
   "execution_count": null,
   "metadata": {},
   "outputs": [],
   "source": [
    "import datetime as dt\n",
    "from collections import Counter\n",
    "import matplotlib.pyplot as plt\n",
    "\n",
    "def get_hashtags(text):\n",
    "    '''\n",
    "    Return a list of hashtags found in text\n",
    "    '''\n",
    "    return [x for x in text.split() if x.startswith(\"#\")]\n",
    "\n",
    "days = []\n",
    "times = []\n",
    "hashtags = []\n",
    "words = []\n",
    "for idx in range(10):\n",
    "    row = feed_df.T[idx]\n",
    "    \n",
    "    date = dt.datetime.fromtimestamp(row['taken_at'])\n",
    "    days.append(date.strftime('%A'))\n",
    "    \n",
    "    times.append(date.strftime('%H'))\n",
    "    for hashtag in get_hashtags(row['text']):\n",
    "        hashtags.append(hashtag)\n",
    "    \n",
    "    # TODO: Remove stop words\n",
    "    for word in row['text'].split(' '):\n",
    "        words.append(word)"
   ]
  },
  {
   "cell_type": "code",
   "execution_count": null,
   "metadata": {},
   "outputs": [],
   "source": [
    "def render_pie_chart(tuple_list, title):\n",
    "    '''\n",
    "    Given a list of tuples of the form [(label, size)], render a pie chart with the specified title\n",
    "    '''\n",
    "    labels = [x[0] for x in tuple_list]\n",
    "    sizes = [x[1] for x in tuple_list]\n",
    "    \n",
    "    fig1, ax = plt.subplots()\n",
    "    ax.pie(sizes, labels=labels, autopct='%1.1f%%', shadow=True, startangle=90)\n",
    "    ax.axis('equal') # Equal aspect ratio ensures that pie is drawn as a circle\n",
    "    ax.set(title=title)\n",
    "    plt.show()    "
   ]
  },
  {
   "cell_type": "code",
   "execution_count": null,
   "metadata": {},
   "outputs": [],
   "source": [
    "top_days = Counter(days).most_common(3)\n",
    "top_times = Counter(times).most_common(3)\n",
    "top_hashtags = Counter(hashtags).most_common(3)\n",
    "top_words = Counter(words).most_common(3)\n",
    "\n",
    "render_pie_chart(top_days, 'What days was the most liked content posted?')\n",
    "render_pie_chart(top_times, 'What time were the posts most frequently made? (0:00-24:00)')\n",
    "render_pie_chart(top_hashtags, 'What are the most popular hashtags?')\n",
    "render_pie_chart(top_words, 'What words were most frequently used?')"
   ]
  },
  {
   "cell_type": "code",
   "execution_count": null,
   "metadata": {},
   "outputs": [],
   "source": [
    "msg = 'It is thus recommended to post on {} around {} o\\'clock using the hash-tags \\'{}\\' and words \\'{}\\'.'.format(\n",
    "            ', '.join([x[0] for x in top_days]),\n",
    "            top_times[0][0],\n",
    "            ', '.join([x[0] for x in top_hashtags]),\n",
    "            ', '.join([x[0] for x in top_words]))\n",
    "print(msg)"
   ]
  }
 ],
 "metadata": {
  "kernelspec": {
   "display_name": "Python 3",
   "language": "python",
   "name": "python3"
  },
  "language_info": {
   "codemirror_mode": {
    "name": "ipython",
    "version": 3
   },
   "file_extension": ".py",
   "mimetype": "text/x-python",
   "name": "python",
   "nbconvert_exporter": "python",
   "pygments_lexer": "ipython3",
   "version": "3.6.6"
  }
 },
 "nbformat": 4,
 "nbformat_minor": 2
}
